{
 "cells": [
  {
   "cell_type": "markdown",
   "metadata": {},
   "source": [
    "## PI day, March 2023\n",
    "### Newton_Raphson_Tusi algorithm\n",
    "Find $x$ such that $cos(x)=0$ around $x_0=1$; then $\\pi=2x$\n",
    "##### Author: Hamed Shah-Hosseini, Twitter:@chekaad, Instagram: @ostad.ai\n",
    "https://github.com/ostad-ai/PI-estimation-methods"
   ]
  },
  {
   "cell_type": "code",
   "execution_count": 3,
   "metadata": {},
   "outputs": [],
   "source": [
    "from math import cos,pi"
   ]
  },
  {
   "cell_type": "code",
   "execution_count": 8,
   "metadata": {},
   "outputs": [],
   "source": [
    "def diff_x(f,x,dx=.0001):\n",
    "    return (f(x+dx)-f(x))/dx\n",
    "\n",
    "def newton_raphson_tusi(f,x0,n_iter=100):\n",
    "    x=x0\n",
    "    for i in range(n_iter):\n",
    "        x-=f(x)/diff_x(f,x)\n",
    "    return x, f(x)"
   ]
  },
  {
   "cell_type": "code",
   "execution_count": 9,
   "metadata": {},
   "outputs": [
    {
     "name": "stdout",
     "output_type": "stream",
     "text": [
      "Estimated pi: 3.141592653589793\n",
      "pi of math:   3.141592653589793\n"
     ]
    }
   ],
   "source": [
    "pi2,f_eval=newton_raphson_tusi(cos,1)\n",
    "print('Estimated pi:',2*pi2)\n",
    "print('pi of math:  ',pi)"
   ]
  },
  {
   "cell_type": "code",
   "execution_count": null,
   "metadata": {},
   "outputs": [],
   "source": []
  }
 ],
 "metadata": {
  "kernelspec": {
   "display_name": "Python 3",
   "language": "python",
   "name": "python3"
  },
  "language_info": {
   "codemirror_mode": {
    "name": "ipython",
    "version": 3
   },
   "file_extension": ".py",
   "mimetype": "text/x-python",
   "name": "python",
   "nbconvert_exporter": "python",
   "pygments_lexer": "ipython3",
   "version": "3.8.15"
  }
 },
 "nbformat": 4,
 "nbformat_minor": 2
}
