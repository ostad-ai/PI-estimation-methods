{
 "cells": [
  {
   "cell_type": "markdown",
   "id": "0b869052",
   "metadata": {},
   "source": [
    "# Leibniz Series and PI number\n",
    "The Leibniz series is a simple infinite series for approximating $\\pi$:\n",
    "<br><br> $\\large 1-\\frac{1}{3}+\\frac{1}{5}-\\frac{1}{7}+...=\\sum_{k=0}^{\\infty}\\frac{(-1)^k}{2k+1}$\n",
    "<br><br> The Leibniz series converges to $\\frac{\\pi}{4}$. So, the value of $\\pi$ is:\n",
    "<br><br>$\\large \\pi=4\\cdot (1-\\frac{1}{3}+\\frac{1}{5}-\\frac{1}{7}+...)$\n",
    "<hr>\n",
    "\n",
    "**Key Points:** \n",
    " - The series alternates between positive and negative terms.\n",
    " - Each term gets smaller as $n$ increases, so the series converges to $\\pi/4$.\n",
    " - However, the convergence is very slow\n",
    "     - Many terms are needed for an accurate approximation.\n",
    "<hr>\n",
    "\n",
    "YouTube channel: **@ostad-ai**, Instagram:**@ostad.ai**, Facebook: **ostad.ai.ostad**\n",
    "<br>\n",
    "The Python code is at:\n",
    "<br>https://github.com/ostad-ai/PI-estimation-methods"
   ]
  },
  {
   "cell_type": "code",
   "execution_count": 1,
   "id": "0cf6c346",
   "metadata": {},
   "outputs": [
    {
     "name": "stdout",
     "output_type": "stream",
     "text": [
      "3.1415916535897743\n"
     ]
    }
   ],
   "source": [
    "def Leibniz(n=1000000):\n",
    "    result=0\n",
    "    for k in range(n):\n",
    "        result+=(-1)**k/(2*k+1)\n",
    "    return result\n",
    "print(f'{4*Leibniz()}')"
   ]
  },
  {
   "cell_type": "code",
   "execution_count": null,
   "id": "fd33d17a",
   "metadata": {},
   "outputs": [],
   "source": []
  }
 ],
 "metadata": {
  "kernelspec": {
   "display_name": "Python 3 (ipykernel)",
   "language": "python",
   "name": "python3"
  },
  "language_info": {
   "codemirror_mode": {
    "name": "ipython",
    "version": 3
   },
   "file_extension": ".py",
   "mimetype": "text/x-python",
   "name": "python",
   "nbconvert_exporter": "python",
   "pygments_lexer": "ipython3",
   "version": "3.11.1"
  }
 },
 "nbformat": 4,
 "nbformat_minor": 5
}
