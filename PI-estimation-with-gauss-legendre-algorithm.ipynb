{
 "cells": [
  {
   "cell_type": "markdown",
   "metadata": {},
   "source": [
    "## PI day, March 2022\n",
    "### Gauss–Legendre algorithm\n",
    "##### Author: Hamed Shah-Hosseini, Twitter:@chekaad, Instagram: @ostad.ai\n",
    "https://github.com/ostad-ai/PI-estimation-methods"
   ]
  },
  {
   "cell_type": "code",
   "execution_count": 33,
   "metadata": {},
   "outputs": [],
   "source": [
    "from decimal import Decimal,getcontext"
   ]
  },
  {
   "cell_type": "code",
   "execution_count": 35,
   "metadata": {},
   "outputs": [
    {
     "name": "stdout",
     "output_type": "stream",
     "text": [
      "PI at iteration 0: 3.14057925052216824831133126897582331177344023751294833564350\n",
      "PI at iteration 1: 3.14159264621354228214934443198269577431443722334560279455956\n",
      "PI at iteration 2: 3.14159265358979323827951277480186397438122550483544693578736\n",
      "PI at iteration 3: 3.14159265358979323846264338327950288419711467828364892155666\n",
      "PI at iteration 4: 3.14159265358979323846264338327950288419716939937510582097498\n",
      "PI at iteration 5: 3.14159265358979323846264338327950288419716939937510582097498\n"
     ]
    }
   ],
   "source": [
    "getcontext().prec=60\n",
    "iteration=6\n",
    "a,b,p,t=Decimal(1.),Decimal(1.)/Decimal(2.).sqrt(),1,Decimal(1.)/Decimal(4.)\n",
    "for n in range(iteration):\n",
    "    anew=(a+b)/Decimal(2.)\n",
    "    b=(a*b).sqrt()\n",
    "    t-=(p*(a-anew)**2)\n",
    "    p*=2; a=anew\n",
    "    print(f'PI at iteration {n}: {(a+b)**2/(4*t)}')"
   ]
  },
  {
   "cell_type": "markdown",
   "metadata": {},
   "source": [
    "Actual PI: 3.1415926535 8979323846 2643383279 5028841971 6939937510 58209749...."
   ]
  },
  {
   "cell_type": "code",
   "execution_count": null,
   "metadata": {
    "collapsed": true
   },
   "outputs": [],
   "source": []
  }
 ],
 "metadata": {
  "kernelspec": {
   "display_name": "Python 3",
   "language": "python",
   "name": "python3"
  },
  "language_info": {
   "codemirror_mode": {
    "name": "ipython",
    "version": 3
   },
   "file_extension": ".py",
   "mimetype": "text/x-python",
   "name": "python",
   "nbconvert_exporter": "python",
   "pygments_lexer": "ipython3",
   "version": "3.8.3"
  }
 },
 "nbformat": 4,
 "nbformat_minor": 2
}
