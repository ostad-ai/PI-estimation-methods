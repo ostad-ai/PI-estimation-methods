{
 "cells": [
  {
   "cell_type": "markdown",
   "metadata": {},
   "source": [
    "## PI day, March 2025\n",
    "#### By computing the area of a circle via integration\n",
    "Assume we have a circle with radius $r$ at the origin (0,0). Its equation is:\n",
    "<br>\n",
    "<br> $ x^2+y^2=r^2$\n",
    "<br>\n",
    "<br>From the equation above, we can get two values for $y$ for each value of $x$:\n",
    "<br><br> $y=\\pm \\sqrt{r^2-x^2}$\n",
    "<br><br>Thus, if we integrate from $-r$ to $+r$ the difference between these two values of $y$, we get the area of the circle:\n",
    "<br><br>$area_{circle}=2\\int_{-r}^{+r}\\sqrt{r^2-x^2}dx$ &emsp;&emsp;  (1)\n",
    "<br><br>From geometry we know that area of a circle with radius $r$ is:\n",
    "<br><br>$area_{circle}=\\pi r^2$ &emsp;&emsp;   (2)\n",
    "<br><br> By setting equal Eqs. (1) and (2) to each other, we get the value of $\\pi$:\n",
    "<br><br>$\\pi=\\frac{2}{r^2}\\int_{-r}^{+r}\\sqrt{r^2-x^2}dx$  &emsp;&emsp; (3)\n",
    "<br><br>**Hint:** The best value for $r$ in Eq. (3) is one. However, we can choose any positive value.\n",
    "<hr>\n",
    "https://github.com/ostad-ai/PI-estimation-methods"
   ]
  },
  {
   "cell_type": "markdown",
   "metadata": {},
   "source": [
    "### For integration, we use the following trapzoidal rule\n",
    "<br>$\\int_{a}^b f(x) dx\\approx \\frac{b-a}{N}(\\sum_{k=1}^{N-1}f(x_k)+\\frac{f(x_0)+f(x_N)}{2}),\n",
    " x_k=a+k\\frac{b-a}{N}, k=0,1,2,...,N$"
   ]
  },
  {
   "cell_type": "code",
   "execution_count": 1,
   "metadata": {},
   "outputs": [],
   "source": [
    "# Import the required module\n",
    "import numpy as np"
   ]
  },
  {
   "cell_type": "code",
   "execution_count": 2,
   "metadata": {},
   "outputs": [],
   "source": [
    "# The integrand\n",
    "def func(z,r=1):\n",
    "    return 2* np.sqrt(r**2-z**2)\n",
    "\n",
    "# The integration method\n",
    "def chainedTrapezoidal(f,a=-1.,b=1.,N=100000000):\n",
    "    points=np.linspace(a,b,N+1)\n",
    "    result=np.sum(f(points[1:-1]))\n",
    "    result+=.5*(f(points[0])+f(points[-1]))\n",
    "    result*=(b-a)/float(N)\n",
    "    return result"
   ]
  },
  {
   "cell_type": "code",
   "execution_count": 3,
   "metadata": {},
   "outputs": [
    {
     "name": "stdout",
     "output_type": "stream",
     "text": [
      "PI estimation with circle area and integration:\n",
      "..................................................\n",
      "PI of code is:  3.1415926535864593\n",
      "-----------------------------------\n",
      "PI of Numpy is: 3.141592653589793\n"
     ]
    }
   ],
   "source": [
    "# Estimation of PI with area of circle\n",
    "print('PI estimation with circle area and integration:')\n",
    "print(50*'.')\n",
    "print(f'PI of code is:  {chainedTrapezoidal(func)}')\n",
    "print(35*'-')\n",
    "print(f'PI of Numpy is: {np.pi}')"
   ]
  },
  {
   "cell_type": "code",
   "execution_count": null,
   "metadata": {},
   "outputs": [],
   "source": []
  }
 ],
 "metadata": {
  "kernelspec": {
   "display_name": "Python 3 (ipykernel)",
   "language": "python",
   "name": "python3"
  },
  "language_info": {
   "codemirror_mode": {
    "name": "ipython",
    "version": 3
   },
   "file_extension": ".py",
   "mimetype": "text/x-python",
   "name": "python",
   "nbconvert_exporter": "python",
   "pygments_lexer": "ipython3",
   "version": "3.11.1"
  }
 },
 "nbformat": 4,
 "nbformat_minor": 4
}
