{
 "cells": [
  {
   "cell_type": "markdown",
   "metadata": {},
   "source": [
    "## PI day, March 2021\n",
    "$tan^{-1}(x)=\\int_{0}^x\\frac{1}{z^2+1}dz \\rightarrow tan^{-1}(1)=\\frac{\\pi}{4}=\\int_{0}^1 \\frac{1}{z^2+1}dz \\rightarrow \\pi=4 \\int_{0}^1 \\frac{1}{z^2+1}dz$\n",
    "##### Author: Hamed Shah-hosseini, Twitter:@chekaad, Instagram: @ostad.ai"
   ]
  },
  {
   "cell_type": "markdown",
   "metadata": {},
   "source": [
    "#### Chained Trapezoidal for integral estimation:\n",
    "<br>$\\int_{a}^b f(x) dx\\approx \\frac{b-a}{N}(\\sum_{k=1}^{N-1}f(x_k)+\\frac{f(x_0)+f(x_N)}{2}),\n",
    " x_k=a+k\\frac{b-a}{N}, k=0,1,2,...,N$"
   ]
  },
  {
   "cell_type": "code",
   "execution_count": 23,
   "metadata": {},
   "outputs": [],
   "source": [
    "import numpy as np"
   ]
  },
  {
   "cell_type": "code",
   "execution_count": 24,
   "metadata": {},
   "outputs": [
    {
     "name": "stdout",
     "output_type": "stream",
     "text": [
      "PI of code is:  3.141592653589793\n",
      "PI of numpy is: 3.141592653589793\n"
     ]
    }
   ],
   "source": [
    "def func(z):\n",
    "    return 1./(z**2+1.)\n",
    "def chainedTrapezoidal(f,a=0.,b=1.,N=100000000):\n",
    "    points=np.linspace(a,b,N+1)\n",
    "    result=np.sum(f(points[1:-1]))\n",
    "    result+=.5*(f(points[0])+f(points[-1]))\n",
    "    result*=(b-a)/float(N)\n",
    "    return result\n",
    "print(f'PI of code is:  {4*chainedTrapezoidal(func)}')\n",
    "print(f'PI of numpy is: {np.pi}')"
   ]
  },
  {
   "cell_type": "code",
   "execution_count": null,
   "metadata": {},
   "outputs": [],
   "source": []
  }
 ],
 "metadata": {
  "kernelspec": {
   "display_name": "Python 3",
   "language": "python",
   "name": "python3"
  },
  "language_info": {
   "codemirror_mode": {
    "name": "ipython",
    "version": 3
   },
   "file_extension": ".py",
   "mimetype": "text/x-python",
   "name": "python",
   "nbconvert_exporter": "python",
   "pygments_lexer": "ipython3",
   "version": "3.8.3"
  }
 },
 "nbformat": 4,
 "nbformat_minor": 4
}
